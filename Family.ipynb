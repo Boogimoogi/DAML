{
 "cells": [
  {
   "cell_type": "markdown",
   "metadata": {},
   "source": [
    "## Handling the the data of Family.csv"
   ]
  },
  {
   "cell_type": "markdown",
   "metadata": {},
   "source": [
    "### Pre-processing"
   ]
  },
  {
   "cell_type": "markdown",
   "metadata": {},
   "source": [
    "Load Data"
   ]
  },
  {
   "cell_type": "code",
   "execution_count": 9,
   "metadata": {},
   "outputs": [],
   "source": [
    "import pandas as pd\n",
    "import numpy as np\n",
    "import re\n",
    "\n",
    "data = pd.read_csv('FamilyData.csv')\n",
    "dt = data"
   ]
  },
  {
   "cell_type": "markdown",
   "metadata": {},
   "source": [
    "Check for duplication"
   ]
  },
  {
   "cell_type": "code",
   "execution_count": 10,
   "metadata": {},
   "outputs": [
    {
     "name": "stdout",
     "output_type": "stream",
     "text": [
      "Duplicates:\n",
      "Empty DataFrame\n",
      "Columns: [Family, Member, Income, Spend]\n",
      "Index: []\n"
     ]
    }
   ],
   "source": [
    "duplicates = dt.duplicated()\n",
    "print(\"Duplicates:\")\n",
    "print(dt[duplicates])"
   ]
  },
  {
   "cell_type": "markdown",
   "metadata": {},
   "source": [
    "- There is no duplicates."
   ]
  },
  {
   "cell_type": "markdown",
   "metadata": {},
   "source": [
    "Check for empty values"
   ]
  },
  {
   "cell_type": "code",
   "execution_count": 11,
   "metadata": {},
   "outputs": [
    {
     "name": "stdout",
     "output_type": "stream",
     "text": [
      "\n",
      "Empty values:\n",
      "Empty DataFrame\n",
      "Columns: [Family, Member, Income, Spend]\n",
      "Index: []\n"
     ]
    }
   ],
   "source": [
    "empty_values = dt.isnull().any(axis=1)\n",
    "print(\"\\nEmpty values:\")\n",
    "print(dt[empty_values])"
   ]
  },
  {
   "cell_type": "markdown",
   "metadata": {},
   "source": [
    "- There is no empty data frame"
   ]
  },
  {
   "cell_type": "markdown",
   "metadata": {},
   "source": [
    "### Prepocessing "
   ]
  },
  {
   "cell_type": "markdown",
   "metadata": {},
   "source": [
    "### A1 Total Income"
   ]
  },
  {
   "cell_type": "markdown",
   "metadata": {},
   "source": [
    "The dataset is built based on each person. It's easier for further process after transforming it into family base."
   ]
  },
  {
   "cell_type": "markdown",
   "metadata": {},
   "source": [
    "Define \"Family_num\" : a new column contains only number of the family.\n",
    "Accomplised by extracting the number in \"Family\" column."
   ]
  },
  {
   "cell_type": "code",
   "execution_count": 12,
   "metadata": {},
   "outputs": [],
   "source": [
    "def family_num(x):\n",
    "    num = re.findall(r'\\d+', x)\n",
    "    return int(num[0])\n",
    "dt[\"Family_num\"] = dt[\"Family\"].apply(family_num)\n",
    "dt[\"Family_num\"] = dt[\"Family_num\"].astype(int)"
   ]
  },
  {
   "cell_type": "markdown",
   "metadata": {},
   "source": [
    "Calculating the total number of adults and chuldren in each family"
   ]
  },
  {
   "cell_type": "code",
   "execution_count": 13,
   "metadata": {},
   "outputs": [],
   "source": [
    "dt[\"Adult_num\"] = dt[\"Member\"].str.contains(\"Adult\")\n",
    "dt[\"Child_num\"] = dt[\"Member\"].str.contains(\"Child\")"
   ]
  },
  {
   "cell_type": "markdown",
   "metadata": {},
   "source": [
    "Aggregate data into family based."
   ]
  },
  {
   "cell_type": "code",
   "execution_count": 14,
   "metadata": {},
   "outputs": [
    {
     "data": {
      "text/html": [
       "<div>\n",
       "<style scoped>\n",
       "    .dataframe tbody tr th:only-of-type {\n",
       "        vertical-align: middle;\n",
       "    }\n",
       "\n",
       "    .dataframe tbody tr th {\n",
       "        vertical-align: top;\n",
       "    }\n",
       "\n",
       "    .dataframe thead th {\n",
       "        text-align: right;\n",
       "    }\n",
       "</style>\n",
       "<table border=\"1\" class=\"dataframe\">\n",
       "  <thead>\n",
       "    <tr style=\"text-align: right;\">\n",
       "      <th></th>\n",
       "      <th>Spend</th>\n",
       "      <th>Income</th>\n",
       "      <th>Family_num</th>\n",
       "      <th>Adult_num</th>\n",
       "      <th>Child_num</th>\n",
       "      <th>Member</th>\n",
       "    </tr>\n",
       "    <tr>\n",
       "      <th>Family</th>\n",
       "      <th></th>\n",
       "      <th></th>\n",
       "      <th></th>\n",
       "      <th></th>\n",
       "      <th></th>\n",
       "      <th></th>\n",
       "    </tr>\n",
       "  </thead>\n",
       "  <tbody>\n",
       "    <tr>\n",
       "      <th>family1</th>\n",
       "      <td>2129097</td>\n",
       "      <td>4761087</td>\n",
       "      <td>1</td>\n",
       "      <td>3</td>\n",
       "      <td>0</td>\n",
       "      <td>Adult1 Adult2 Adult3</td>\n",
       "    </tr>\n",
       "    <tr>\n",
       "      <th>family2</th>\n",
       "      <td>890424</td>\n",
       "      <td>2939887</td>\n",
       "      <td>2</td>\n",
       "      <td>3</td>\n",
       "      <td>2</td>\n",
       "      <td>Adult1 Adult2 Adult3 Child1 Child2</td>\n",
       "    </tr>\n",
       "    <tr>\n",
       "      <th>family3</th>\n",
       "      <td>807835</td>\n",
       "      <td>2301931</td>\n",
       "      <td>3</td>\n",
       "      <td>1</td>\n",
       "      <td>0</td>\n",
       "      <td>Adult1</td>\n",
       "    </tr>\n",
       "    <tr>\n",
       "      <th>family4</th>\n",
       "      <td>1128708</td>\n",
       "      <td>2896133</td>\n",
       "      <td>4</td>\n",
       "      <td>2</td>\n",
       "      <td>0</td>\n",
       "      <td>Adult1 Adult2</td>\n",
       "    </tr>\n",
       "    <tr>\n",
       "      <th>family5</th>\n",
       "      <td>501827</td>\n",
       "      <td>1428679</td>\n",
       "      <td>5</td>\n",
       "      <td>3</td>\n",
       "      <td>1</td>\n",
       "      <td>Adult1 Adult2 Adult3 Child1</td>\n",
       "    </tr>\n",
       "    <tr>\n",
       "      <th>...</th>\n",
       "      <td>...</td>\n",
       "      <td>...</td>\n",
       "      <td>...</td>\n",
       "      <td>...</td>\n",
       "      <td>...</td>\n",
       "      <td>...</td>\n",
       "    </tr>\n",
       "    <tr>\n",
       "      <th>family96</th>\n",
       "      <td>135954</td>\n",
       "      <td>325062</td>\n",
       "      <td>96</td>\n",
       "      <td>1</td>\n",
       "      <td>2</td>\n",
       "      <td>Adult1 Child1 Child2</td>\n",
       "    </tr>\n",
       "    <tr>\n",
       "      <th>family97</th>\n",
       "      <td>774694</td>\n",
       "      <td>2663794</td>\n",
       "      <td>97</td>\n",
       "      <td>2</td>\n",
       "      <td>0</td>\n",
       "      <td>Adult1 Adult2</td>\n",
       "    </tr>\n",
       "    <tr>\n",
       "      <th>family98</th>\n",
       "      <td>1031955</td>\n",
       "      <td>3018609</td>\n",
       "      <td>98</td>\n",
       "      <td>2</td>\n",
       "      <td>0</td>\n",
       "      <td>Adult1 Adult2</td>\n",
       "    </tr>\n",
       "    <tr>\n",
       "      <th>family99</th>\n",
       "      <td>493578</td>\n",
       "      <td>1827150</td>\n",
       "      <td>99</td>\n",
       "      <td>1</td>\n",
       "      <td>0</td>\n",
       "      <td>Adult1</td>\n",
       "    </tr>\n",
       "    <tr>\n",
       "      <th>family100</th>\n",
       "      <td>258414</td>\n",
       "      <td>1031646</td>\n",
       "      <td>100</td>\n",
       "      <td>2</td>\n",
       "      <td>0</td>\n",
       "      <td>Adult1 Adult2</td>\n",
       "    </tr>\n",
       "  </tbody>\n",
       "</table>\n",
       "<p>100 rows × 6 columns</p>\n",
       "</div>"
      ],
      "text/plain": [
       "             Spend   Income  Family_num  Adult_num  Child_num  \\\n",
       "Family                                                          \n",
       "family1    2129097  4761087           1          3          0   \n",
       "family2     890424  2939887           2          3          2   \n",
       "family3     807835  2301931           3          1          0   \n",
       "family4    1128708  2896133           4          2          0   \n",
       "family5     501827  1428679           5          3          1   \n",
       "...            ...      ...         ...        ...        ...   \n",
       "family96    135954   325062          96          1          2   \n",
       "family97    774694  2663794          97          2          0   \n",
       "family98   1031955  3018609          98          2          0   \n",
       "family99    493578  1827150          99          1          0   \n",
       "family100   258414  1031646         100          2          0   \n",
       "\n",
       "                                       Member  \n",
       "Family                                         \n",
       "family1                  Adult1 Adult2 Adult3  \n",
       "family2    Adult1 Adult2 Adult3 Child1 Child2  \n",
       "family3                                Adult1  \n",
       "family4                         Adult1 Adult2  \n",
       "family5           Adult1 Adult2 Adult3 Child1  \n",
       "...                                       ...  \n",
       "family96                 Adult1 Child1 Child2  \n",
       "family97                        Adult1 Adult2  \n",
       "family98                        Adult1 Adult2  \n",
       "family99                               Adult1  \n",
       "family100                       Adult1 Adult2  \n",
       "\n",
       "[100 rows x 6 columns]"
      ]
     },
     "execution_count": 14,
     "metadata": {},
     "output_type": "execute_result"
    }
   ],
   "source": [
    "def join_member(x):\n",
    "    return \" \".join(x)\n",
    "aggregation_function = {\"Spend\":\"sum\",\"Income\":\"sum\",\"Family_num\":\"first\",\"Adult_num\":\"sum\",\"Child_num\":\"sum\",\"Member\":join_member}\n",
    "dt = dt.groupby(dt[\"Family\"]).aggregate(aggregation_function)\n",
    "dt[\"Family_num\"] = dt[\"Family_num\"].astype(int)\n",
    "dt = dt.sort_values(by = [\"Family_num\"], ascending = True)\n",
    "dt"
   ]
  },
  {
   "cell_type": "markdown",
   "metadata": {},
   "source": [
    "Family that has the highest total income."
   ]
  },
  {
   "cell_type": "code",
   "execution_count": 15,
   "metadata": {},
   "outputs": [
    {
     "name": "stdout",
     "output_type": "stream",
     "text": [
      "Highest annual income: \n",
      "Spend                                    2879221\n",
      "Income                                   7804425\n",
      "Family_num                                     6\n",
      "Adult_num                                      3\n",
      "Child_num                                      2\n",
      "Member        Adult1 Adult2 Adult3 Child1 Child2\n",
      "Name: family6, dtype: object\n"
     ]
    }
   ],
   "source": [
    "print (\"Highest annual income: \")\n",
    "print(dt.loc[dt[\"Income\"].idxmax()])\n"
   ]
  },
  {
   "cell_type": "markdown",
   "metadata": {},
   "source": [
    "Family that has the lowest total income."
   ]
  },
  {
   "cell_type": "code",
   "execution_count": 16,
   "metadata": {},
   "outputs": [
    {
     "name": "stdout",
     "output_type": "stream",
     "text": [
      "Lowest annual income: \n",
      "Spend                 30029\n",
      "Income                46790\n",
      "Family_num               94\n",
      "Adult_num                 1\n",
      "Child_num                 1\n",
      "Member        Adult1 Child1\n",
      "Name: family94, dtype: object\n"
     ]
    }
   ],
   "source": [
    "print (\"Lowest annual income: \")\n",
    "print(dt.loc[dt[\"Income\"].idxmin()])"
   ]
  },
  {
   "cell_type": "markdown",
   "metadata": {},
   "source": [
    "### A2 Possess adequate annual income"
   ]
  },
  {
   "cell_type": "markdown",
   "metadata": {},
   "source": [
    "Check if there is a family doesn't have enough incomes for spending"
   ]
  },
  {
   "cell_type": "code",
   "execution_count": 17,
   "metadata": {},
   "outputs": [
    {
     "name": "stdout",
     "output_type": "stream",
     "text": [
      "Spending exceed income:  Empty DataFrame\n",
      "Columns: [Spend, Income, Family_num, Adult_num, Child_num, Member]\n",
      "Index: []\n"
     ]
    }
   ],
   "source": [
    "print(\"Spending exceed income: \",dt[dt[\"Spend\"] > dt[\"Income\"]])\n"
   ]
  },
  {
   "cell_type": "markdown",
   "metadata": {},
   "source": [
    "As the result, every family possess enough incomes for spending"
   ]
  },
  {
   "cell_type": "markdown",
   "metadata": {},
   "source": [
    "### A3-1 Single Parent"
   ]
  },
  {
   "cell_type": "markdown",
   "metadata": {},
   "source": [
    "I see single family as a family with at least 1 child but only 1 parent at present"
   ]
  },
  {
   "cell_type": "code",
   "execution_count": 18,
   "metadata": {},
   "outputs": [
    {
     "name": "stdout",
     "output_type": "stream",
     "text": [
      "            Spend   Income  Family_num  Adult_num  Child_num  \\\n",
      "Family                                                         \n",
      "family7   1298626  2815513           7          1          1   \n",
      "family14   261304   998732          14          1          2   \n",
      "family15    62395   156330          15          1          2   \n",
      "family21  1499402  2979034          21          1          2   \n",
      "family22   625138  2559448          22          1          1   \n",
      "family27   149986   459792          27          1          1   \n",
      "family33    91991   331955          33          1          2   \n",
      "family37   710857  2924516          37          1          1   \n",
      "family45   871635  2477184          45          1          1   \n",
      "family48    74349   198274          48          1          1   \n",
      "family54   497764  1317286          54          1          1   \n",
      "family59   492122  1458533          59          1          1   \n",
      "family61   790274  1680099          61          1          2   \n",
      "family64   185343   770201          64          1          1   \n",
      "family66  1122941  2782174          66          1          2   \n",
      "family68    59542    98781          68          1          1   \n",
      "family72   197835   638992          72          1          2   \n",
      "family78    48182   177164          78          1          1   \n",
      "family84    39944    86234          84          1          1   \n",
      "family88   692917  1829891          88          1          2   \n",
      "family93   806759  2026342          93          1          2   \n",
      "family94    30029    46790          94          1          1   \n",
      "family96   135954   325062          96          1          2   \n",
      "\n",
      "                        Member  \n",
      "Family                          \n",
      "family7          Adult1 Child1  \n",
      "family14  Adult1 Child1 Child2  \n",
      "family15  Adult1 Child1 Child2  \n",
      "family21  Adult1 Child1 Child2  \n",
      "family22         Adult1 Child1  \n",
      "family27         Adult1 Child1  \n",
      "family33  Adult1 Child1 Child2  \n",
      "family37         Adult1 Child1  \n",
      "family45         Adult1 Child1  \n",
      "family48         Adult1 Child1  \n",
      "family54         Adult1 Child1  \n",
      "family59         Adult1 Child1  \n",
      "family61  Adult1 Child1 Child2  \n",
      "family64         Adult1 Child1  \n",
      "family66  Adult1 Child1 Child2  \n",
      "family68         Adult1 Child1  \n",
      "family72  Adult1 Child1 Child2  \n",
      "family78         Adult1 Child1  \n",
      "family84         Adult1 Child1  \n",
      "family88  Adult1 Child1 Child2  \n",
      "family93  Adult1 Child1 Child2  \n",
      "family94         Adult1 Child1  \n",
      "family96  Adult1 Child1 Child2  \n",
      "Single parent family:  23\n"
     ]
    }
   ],
   "source": [
    "dt_single = dt.loc[(dt['Adult_num'] == 1) & (dt['Child_num'] > 0)]\n",
    "print (dt_single)\n",
    "print (\"Single parent family: \",dt_single['Family_num'].count())"
   ]
  },
  {
   "cell_type": "markdown",
   "metadata": {},
   "source": [
    "### A3-2 Childless"
   ]
  },
  {
   "cell_type": "markdown",
   "metadata": {},
   "source": [
    "For childless families, I take the families with no children and the number of adults is less than 3."
   ]
  },
  {
   "cell_type": "code",
   "execution_count": 19,
   "metadata": {},
   "outputs": [
    {
     "name": "stdout",
     "output_type": "stream",
     "text": [
      "             Spend   Income  Family_num  Adult_num  Child_num         Member\n",
      "Family                                                                      \n",
      "family3     807835  2301931           3          1          0         Adult1\n",
      "family4    1128708  2896133           4          2          0  Adult1 Adult2\n",
      "family9    2115220  4653044           9          2          0  Adult1 Adult2\n",
      "family13   1767505  5493031          13          2          0  Adult1 Adult2\n",
      "family17    222356   880849          17          2          0  Adult1 Adult2\n",
      "family24   1551899  3806938          24          2          0  Adult1 Adult2\n",
      "family25    190368   422690          25          1          0         Adult1\n",
      "family32    457300  2028187          32          1          0         Adult1\n",
      "family36    126095   561059          36          2          0  Adult1 Adult2\n",
      "family38   1197432  2497154          38          1          0         Adult1\n",
      "family42    911170  2155619          42          1          0         Adult1\n",
      "family46    195694   749903          46          1          0         Adult1\n",
      "family49     75510   151373          49          1          0         Adult1\n",
      "family55    812602  2719015          55          1          0         Adult1\n",
      "family58    222813   552718          58          2          0  Adult1 Adult2\n",
      "family60    652568  2005588          60          1          0         Adult1\n",
      "family74    174448   524999          74          1          0         Adult1\n",
      "family79    151779   536771          79          1          0         Adult1\n",
      "family80    189514   711095          80          1          0         Adult1\n",
      "family82    210282   695510          82          1          0         Adult1\n",
      "family85    461272  2010546          85          1          0         Adult1\n",
      "family87    314686  1059458          87          1          0         Adult1\n",
      "family89    265927  1221193          89          1          0         Adult1\n",
      "family97    774694  2663794          97          2          0  Adult1 Adult2\n",
      "family98   1031955  3018609          98          2          0  Adult1 Adult2\n",
      "family99    493578  1827150          99          1          0         Adult1\n",
      "family100   258414  1031646         100          2          0  Adult1 Adult2\n",
      "Childless family:  27\n"
     ]
    }
   ],
   "source": [
    "dt_childless = dt.loc[((dt['Child_num'] == 0) & (dt['Adult_num'] < 3)) ]\n",
    "print (dt_childless)\n",
    "print (\"Childless family: \",dt_childless['Family_num'].count())\n"
   ]
  },
  {
   "cell_type": "markdown",
   "metadata": {},
   "source": []
  },
  {
   "cell_type": "code",
   "execution_count": null,
   "metadata": {},
   "outputs": [],
   "source": []
  },
  {
   "cell_type": "code",
   "execution_count": null,
   "metadata": {},
   "outputs": [],
   "source": []
  },
  {
   "cell_type": "code",
   "execution_count": null,
   "metadata": {},
   "outputs": [],
   "source": []
  },
  {
   "cell_type": "code",
   "execution_count": null,
   "metadata": {},
   "outputs": [],
   "source": []
  }
 ],
 "metadata": {
  "kernelspec": {
   "display_name": "base",
   "language": "python",
   "name": "python3"
  },
  "language_info": {
   "codemirror_mode": {
    "name": "ipython",
    "version": 3
   },
   "file_extension": ".py",
   "mimetype": "text/x-python",
   "name": "python",
   "nbconvert_exporter": "python",
   "pygments_lexer": "ipython3",
   "version": "3.12.2"
  }
 },
 "nbformat": 4,
 "nbformat_minor": 2
}
